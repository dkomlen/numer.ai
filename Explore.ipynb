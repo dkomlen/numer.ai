{
 "cells": [
  {
   "cell_type": "code",
   "execution_count": 13,
   "metadata": {},
   "outputs": [],
   "source": [
    "import pandas as pd\n",
    "import numpy as np\n",
    "import matplotlib.pyplot as plt\n",
    "%matplotlib inline"
   ]
  },
  {
   "cell_type": "code",
   "execution_count": 4,
   "metadata": {},
   "outputs": [
    {
     "name": "stdout",
     "output_type": "stream",
     "text": [
      "AnalysisAndTips.ipynb  example_predictions_target_kazutsugi.csv\r\n",
      "example_model.py       numerai_tournament_data.csv\r\n",
      "example_model.r        numerai_training_data.csv\r\n"
     ]
    }
   ],
   "source": [
    "!ls data/numerai_dataset_x/"
   ]
  },
  {
   "cell_type": "code",
   "execution_count": 7,
   "metadata": {},
   "outputs": [
    {
     "data": {
      "text/html": [
       "<div>\n",
       "<style scoped>\n",
       "    .dataframe tbody tr th:only-of-type {\n",
       "        vertical-align: middle;\n",
       "    }\n",
       "\n",
       "    .dataframe tbody tr th {\n",
       "        vertical-align: top;\n",
       "    }\n",
       "\n",
       "    .dataframe thead th {\n",
       "        text-align: right;\n",
       "    }\n",
       "</style>\n",
       "<table border=\"1\" class=\"dataframe\">\n",
       "  <thead>\n",
       "    <tr style=\"text-align: right;\">\n",
       "      <th></th>\n",
       "      <th>id</th>\n",
       "      <th>era</th>\n",
       "      <th>data_type</th>\n",
       "      <th>feature1</th>\n",
       "      <th>feature2</th>\n",
       "      <th>feature3</th>\n",
       "      <th>feature4</th>\n",
       "      <th>feature5</th>\n",
       "      <th>feature6</th>\n",
       "      <th>feature7</th>\n",
       "      <th>...</th>\n",
       "      <th>feature48</th>\n",
       "      <th>feature49</th>\n",
       "      <th>feature50</th>\n",
       "      <th>target_bernie</th>\n",
       "      <th>target_elizabeth</th>\n",
       "      <th>target_jordan</th>\n",
       "      <th>target_ken</th>\n",
       "      <th>target_charles</th>\n",
       "      <th>target_frank</th>\n",
       "      <th>target_hillary</th>\n",
       "    </tr>\n",
       "  </thead>\n",
       "  <tbody>\n",
       "    <tr>\n",
       "      <th>0</th>\n",
       "      <td>n0003126ff2349f6</td>\n",
       "      <td>era1</td>\n",
       "      <td>train</td>\n",
       "      <td>0.54836</td>\n",
       "      <td>0.31077</td>\n",
       "      <td>0.37524</td>\n",
       "      <td>0.49490</td>\n",
       "      <td>0.53217</td>\n",
       "      <td>0.48388</td>\n",
       "      <td>0.50220</td>\n",
       "      <td>...</td>\n",
       "      <td>0.55239</td>\n",
       "      <td>0.64054</td>\n",
       "      <td>0.52182</td>\n",
       "      <td>1</td>\n",
       "      <td>1</td>\n",
       "      <td>1</td>\n",
       "      <td>1</td>\n",
       "      <td>1</td>\n",
       "      <td>1</td>\n",
       "      <td>1</td>\n",
       "    </tr>\n",
       "    <tr>\n",
       "      <th>1</th>\n",
       "      <td>n003d773d29b57ec</td>\n",
       "      <td>era1</td>\n",
       "      <td>train</td>\n",
       "      <td>0.34712</td>\n",
       "      <td>0.40275</td>\n",
       "      <td>0.42747</td>\n",
       "      <td>0.44006</td>\n",
       "      <td>0.47866</td>\n",
       "      <td>0.44055</td>\n",
       "      <td>0.59182</td>\n",
       "      <td>...</td>\n",
       "      <td>0.46029</td>\n",
       "      <td>0.62941</td>\n",
       "      <td>0.55010</td>\n",
       "      <td>1</td>\n",
       "      <td>1</td>\n",
       "      <td>1</td>\n",
       "      <td>1</td>\n",
       "      <td>1</td>\n",
       "      <td>1</td>\n",
       "      <td>1</td>\n",
       "    </tr>\n",
       "    <tr>\n",
       "      <th>2</th>\n",
       "      <td>n0074df2dc6810b6</td>\n",
       "      <td>era1</td>\n",
       "      <td>train</td>\n",
       "      <td>0.50871</td>\n",
       "      <td>0.48639</td>\n",
       "      <td>0.47544</td>\n",
       "      <td>0.40306</td>\n",
       "      <td>0.53436</td>\n",
       "      <td>0.64028</td>\n",
       "      <td>0.51420</td>\n",
       "      <td>...</td>\n",
       "      <td>0.40596</td>\n",
       "      <td>0.54731</td>\n",
       "      <td>0.39061</td>\n",
       "      <td>0</td>\n",
       "      <td>0</td>\n",
       "      <td>1</td>\n",
       "      <td>0</td>\n",
       "      <td>0</td>\n",
       "      <td>0</td>\n",
       "      <td>0</td>\n",
       "    </tr>\n",
       "    <tr>\n",
       "      <th>3</th>\n",
       "      <td>n0090630f530903e</td>\n",
       "      <td>era1</td>\n",
       "      <td>train</td>\n",
       "      <td>0.61363</td>\n",
       "      <td>0.40268</td>\n",
       "      <td>0.53779</td>\n",
       "      <td>0.37045</td>\n",
       "      <td>0.58711</td>\n",
       "      <td>0.59900</td>\n",
       "      <td>0.62428</td>\n",
       "      <td>...</td>\n",
       "      <td>0.53878</td>\n",
       "      <td>0.47776</td>\n",
       "      <td>0.36835</td>\n",
       "      <td>0</td>\n",
       "      <td>0</td>\n",
       "      <td>0</td>\n",
       "      <td>0</td>\n",
       "      <td>0</td>\n",
       "      <td>0</td>\n",
       "      <td>0</td>\n",
       "    </tr>\n",
       "    <tr>\n",
       "      <th>4</th>\n",
       "      <td>n00af19089546fe9</td>\n",
       "      <td>era1</td>\n",
       "      <td>train</td>\n",
       "      <td>0.30704</td>\n",
       "      <td>0.47273</td>\n",
       "      <td>0.54495</td>\n",
       "      <td>0.48692</td>\n",
       "      <td>0.47348</td>\n",
       "      <td>0.34695</td>\n",
       "      <td>0.41506</td>\n",
       "      <td>...</td>\n",
       "      <td>0.46431</td>\n",
       "      <td>0.49482</td>\n",
       "      <td>0.60452</td>\n",
       "      <td>1</td>\n",
       "      <td>1</td>\n",
       "      <td>1</td>\n",
       "      <td>1</td>\n",
       "      <td>1</td>\n",
       "      <td>1</td>\n",
       "      <td>1</td>\n",
       "    </tr>\n",
       "  </tbody>\n",
       "</table>\n",
       "<p>5 rows × 60 columns</p>\n",
       "</div>"
      ],
      "text/plain": [
       "                 id   era data_type  feature1  feature2  feature3  feature4  \\\n",
       "0  n0003126ff2349f6  era1     train   0.54836   0.31077   0.37524   0.49490   \n",
       "1  n003d773d29b57ec  era1     train   0.34712   0.40275   0.42747   0.44006   \n",
       "2  n0074df2dc6810b6  era1     train   0.50871   0.48639   0.47544   0.40306   \n",
       "3  n0090630f530903e  era1     train   0.61363   0.40268   0.53779   0.37045   \n",
       "4  n00af19089546fe9  era1     train   0.30704   0.47273   0.54495   0.48692   \n",
       "\n",
       "   feature5  feature6  feature7  ...  feature48  feature49  feature50  \\\n",
       "0   0.53217   0.48388   0.50220  ...    0.55239    0.64054    0.52182   \n",
       "1   0.47866   0.44055   0.59182  ...    0.46029    0.62941    0.55010   \n",
       "2   0.53436   0.64028   0.51420  ...    0.40596    0.54731    0.39061   \n",
       "3   0.58711   0.59900   0.62428  ...    0.53878    0.47776    0.36835   \n",
       "4   0.47348   0.34695   0.41506  ...    0.46431    0.49482    0.60452   \n",
       "\n",
       "   target_bernie  target_elizabeth  target_jordan  target_ken  target_charles  \\\n",
       "0              1                 1              1           1               1   \n",
       "1              1                 1              1           1               1   \n",
       "2              0                 0              1           0               0   \n",
       "3              0                 0              0           0               0   \n",
       "4              1                 1              1           1               1   \n",
       "\n",
       "   target_frank  target_hillary  \n",
       "0             1               1  \n",
       "1             1               1  \n",
       "2             0               0  \n",
       "3             0               0  \n",
       "4             1               1  \n",
       "\n",
       "[5 rows x 60 columns]"
      ]
     },
     "execution_count": 7,
     "metadata": {},
     "output_type": "execute_result"
    }
   ],
   "source": [
    "df = pd.read_csv(\"data/numerai_dataset_167/numerai_training_data.csv\")\n",
    "df.head()"
   ]
  },
  {
   "cell_type": "code",
   "execution_count": 10,
   "metadata": {},
   "outputs": [
    {
     "data": {
      "text/plain": [
       "120"
      ]
     },
     "execution_count": 10,
     "metadata": {},
     "output_type": "execute_result"
    }
   ],
   "source": [
    "len(df['era'].unique())"
   ]
  },
  {
   "cell_type": "code",
   "execution_count": 11,
   "metadata": {},
   "outputs": [
    {
     "data": {
      "text/plain": [
       "(502732, 60)"
      ]
     },
     "execution_count": 11,
     "metadata": {},
     "output_type": "execute_result"
    }
   ],
   "source": [
    "df.shape"
   ]
  },
  {
   "cell_type": "code",
   "execution_count": 15,
   "metadata": {},
   "outputs": [
    {
     "data": {
      "image/png": "[encoded data removed]",
      "text/plain": [
       "<Figure size 432x288 with 1 Axes>"
      ]
     },
     "metadata": {
      "needs_background": "light"
     },
     "output_type": "display_data"
    }
   ],
   "source": [
    "df.groupby('era').size().plot();"
   ]
  },
  {
   "cell_type": "code",
   "execution_count": 22,
   "metadata": {},
   "outputs": [
    {
     "data": {
      "image/png": "[encoded data removed]",
      "text/plain": [
       "<Figure size 432x288 with 9 Axes>"
      ]
     },
     "metadata": {
      "needs_background": "light"
     },
     "output_type": "display_data"
    }
   ],
   "source": [
    "df[[c for c in df if c.startswith('target')]].hist();"
   ]
  },
  {
   "cell_type": "code",
   "execution_count": null,
   "metadata": {},
   "outputs": [],
   "source": []
  }
 ],
 "metadata": {
  "kernelspec": {
   "display_name": "Python 3",
   "language": "python",
   "name": "python3"
  },
  "language_info": {
   "codemirror_mode": {
    "name": "ipython",
    "version": 3
   },
   "file_extension": ".py",
   "mimetype": "text/x-python",
   "name": "python",
   "nbconvert_exporter": "python",
   "pygments_lexer": "ipython3",
   "version": "3.7.3"
  }
 },
 "nbformat": 4,
 "nbformat_minor": 2
}
